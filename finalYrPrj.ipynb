{
  "nbformat": 4,
  "nbformat_minor": 0,
  "metadata": {
    "colab": {
      "name": "finalYrPrj.ipynb",
      "provenance": [],
      "collapsed_sections": []
    },
    "kernelspec": {
      "name": "python3",
      "display_name": "Python 3"
    }
  },
  "cells": [
    {
      "cell_type": "code",
      "metadata": {
        "id": "kxTse2lrYKoV"
      },
      "source": [
        "import pandas as pd\n",
        "import numpy as np\n",
        "import seaborn as sns\n",
        "import matplotlib.pyplot as plt"
      ],
      "execution_count": null,
      "outputs": []
    },
    {
      "cell_type": "code",
      "metadata": {
        "id": "0daqlrv7Zyx9"
      },
      "source": [
        "df=pd.read_csv(\"data3.o.csv\")"
      ],
      "execution_count": null,
      "outputs": []
    },
    {
      "cell_type": "code",
      "metadata": {
        "id": "NtXQa4Z8afFx"
      },
      "source": [
        "df.head()"
      ],
      "execution_count": null,
      "outputs": []
    },
    {
      "cell_type": "code",
      "metadata": {
        "id": "vGAQbv7D_vgP"
      },
      "source": [
        "df.info()"
      ],
      "execution_count": null,
      "outputs": []
    },
    {
      "cell_type": "code",
      "metadata": {
        "id": "-01yXLBAdobX"
      },
      "source": [
        "df['GENDER']=df['GENDER'].replace(['Man','Woman'],['male','female'])\n"
      ],
      "execution_count": null,
      "outputs": []
    },
    {
      "cell_type": "code",
      "metadata": {
        "id": "-cYryVsoafor"
      },
      "source": [
        "df=df.iloc[:,5:]\n",
        "df.head()"
      ],
      "execution_count": null,
      "outputs": []
    },
    {
      "cell_type": "code",
      "metadata": {
        "id": "KNlbROdXasBq"
      },
      "source": [
        "newFrame=df.iloc[:,6:]\n",
        "newFrame.head()"
      ],
      "execution_count": null,
      "outputs": []
    },
    {
      "cell_type": "code",
      "metadata": {
        "id": "dJiaR4LGauZS"
      },
      "source": [
        "for j in range(len(newFrame)):\n",
        "    x=newFrame.iloc[j,:]\n",
        "    for i in range(0,len(x),2):\n",
        "        if x[i]>x[i+1] and x[i+1]!=0:\n",
        "            x[i+1]=0\n",
        "        elif x[i]<x[i+1] and x[i]!=0:\n",
        "            x[i]=0\n",
        "    newFrame.iloc[j,:]=x\n",
        "\n",
        "newFrame.head() "
      ],
      "execution_count": null,
      "outputs": []
    },
    {
      "cell_type": "code",
      "metadata": {
        "id": "qGjcZ9LWawX-"
      },
      "source": [
        "d1=newFrame.iloc[:,[0,1,8,9,16,17,24,25,32,33]]\n",
        "d1['active']=0.0\n",
        "d1['reflexive']=0.0\n",
        "print(d1.info())\n",
        "for j in range(len(d1)):\n",
        "    x=d1.iloc[j,:]\n",
        "    s1=s2=s3=s4=0\n",
        "    for i in range(0,len(x),2):\n",
        "        s1+=x[i]\n",
        "        s2+=x[i+1]\n",
        "        if x[i]==x[i+1]:\n",
        "            s3+=x[i]\n",
        "            s4+=x[i+1]\n",
        "    #print(s1,s2,s3,s4)\n",
        "    if s1>s2:\n",
        "        s2-=s4\n",
        "    elif s1<s2:\n",
        "        s1-=s3\n",
        "    #print(s1,s2)\n",
        "    x[-1]=float(s2/5.0)\n",
        "    x[-2]=float(s1/5.0)\n",
        "    d1.iloc[j,:]=x\n",
        "    #print(d1.iloc[j,:])\n",
        "d1.head()"
      ],
      "execution_count": null,
      "outputs": []
    },
    {
      "cell_type": "code",
      "metadata": {
        "id": "wB73r1M0ayY2"
      },
      "source": [
        "d2=newFrame.iloc[:,[2,3,10,11,18,19,26,27,34,35]]\n",
        "d2['sensitive']=0.0\n",
        "d2['intuitive']=0.0\n",
        "print(d2.info())\n",
        "for j in range(len(d2)):\n",
        "    x=d2.iloc[j,:]\n",
        "    s1=s2=s3=s4=0\n",
        "    for i in range(0,len(x),2):\n",
        "        s1+=x[i]\n",
        "        s2+=x[i+1]\n",
        "        if x[i]==x[i+1]:\n",
        "            s3+=x[i]\n",
        "            s4+=x[i+1]\n",
        "    #print(s1,s2,s3,s4)\n",
        "    if s1>s2:\n",
        "        s2-=s4\n",
        "    elif s1<s2:\n",
        "        s1-=s3\n",
        "    #print(s1,s2)\n",
        "    x[-1]=float(s2/5.0)\n",
        "    x[-2]=float(s1/5.0)\n",
        "    d2.iloc[j,:]=x\n",
        "    #print(d1.iloc[j,:])\n",
        "d2.head()"
      ],
      "execution_count": null,
      "outputs": []
    },
    {
      "cell_type": "code",
      "metadata": {
        "id": "Wzm8OlYwa3pb"
      },
      "source": [
        "d3=newFrame.iloc[:,[4,5,12,13,20,21,28,29,36,37]]\n",
        "d3['visual']=0.0\n",
        "d3['verbal']=0.0\n",
        "print(d3.info())\n",
        "for j in range(len(d3)):\n",
        "    x=d3.iloc[j,:]\n",
        "    s1=s2=s3=s4=0\n",
        "    for i in range(0,len(x),2):\n",
        "        s1+=x[i]\n",
        "        s2+=x[i+1]\n",
        "        if x[i]==x[i+1]:\n",
        "            s3+=x[i]\n",
        "            s4+=x[i+1]\n",
        "    #print(s1,s2,s3,s4)\n",
        "    if s1>s2:\n",
        "        s2-=s4\n",
        "    elif s1<s2:\n",
        "        s1-=s3\n",
        "    #print(s1,s2)\n",
        "    x[-1]=float(s2/5.0)\n",
        "    x[-2]=float(s1/5.0)\n",
        "    d3.iloc[j,:]=x\n",
        "    #print(d1.iloc[j,:])\n",
        "d3.head()"
      ],
      "execution_count": null,
      "outputs": []
    },
    {
      "cell_type": "code",
      "metadata": {
        "id": "wC7Lj_Qga6uh"
      },
      "source": [
        "d4=newFrame.iloc[:,[6,7,14,15,22,23,30,31,38,39]]\n",
        "d4['sequential']=0.0\n",
        "d4['global']=0.0\n",
        "print(d4.info())\n",
        "for j in range(len(d4)):\n",
        "    x=d4.iloc[j,:]\n",
        "    s1=s2=s3=s4=0\n",
        "    for i in range(0,len(x),2):\n",
        "        s1+=x[i]\n",
        "        s2+=x[i+1]\n",
        "        if x[i]==x[i+1]:\n",
        "            s3+=x[i]\n",
        "            s4+=x[i+1]\n",
        "    #print(s1,s2,s3,s4)\n",
        "    if s1>s2:\n",
        "        s2-=s4\n",
        "    elif s1<s2:\n",
        "        s1-=s3\n",
        "    #print(s1,s2)\n",
        "    x[-1]=float(s2/5.0)\n",
        "    x[-2]=float(s1/5.0)\n",
        "    d4.iloc[j,:]=x\n",
        "    #print(d1.iloc[j,:])\n",
        "d4.head()"
      ],
      "execution_count": null,
      "outputs": []
    },
    {
      "cell_type": "code",
      "metadata": {
        "id": "6UAg1AJBa89E"
      },
      "source": [
        "final=[d1['active'],d1['reflexive'],d2['sensitive'],d2['intuitive'],d3['visual'],d3['verbal'],d4['sequential'],d4['global']]\n",
        "titles=['active','reflexive','sensitive','intuitive','visual','verbal','sequential','global']\n",
        "df3 = pd.concat(final, axis=1, keys=titles)\n",
        "df3['output']=''\n",
        "df3['score']=''\n",
        "df3.head()\n",
        "\n"
      ],
      "execution_count": null,
      "outputs": []
    },
    {
      "cell_type": "code",
      "metadata": {
        "id": "gidQZtS8CTDU"
      },
      "source": [
        "df3.info()"
      ],
      "execution_count": null,
      "outputs": []
    },
    {
      "cell_type": "code",
      "metadata": {
        "id": "hk2kHOgva_Kx"
      },
      "source": [
        "label = {\n",
        "  \"ACEG\": \"0\",\n",
        "  \"BCEG\": \"1\",\n",
        "  \"ADEG\": \"2\",\n",
        "  \"BDEG\": \"3\",\n",
        "  \"ACFG\": \"4\",\n",
        "  \"BCFG\": \"5\",\n",
        "  \"ADFG\": \"6\",\n",
        "  \"BDFG\": \"7\",\n",
        "  \"ACEH\": \"8\",\n",
        "  \"BCEH\": \"9\",\n",
        "  \"ADEH\": \"A\",\n",
        "  \"BDEH\": \"B\",\n",
        "  \"ACFH\": \"C\",\n",
        "  \"BCFH\": \"D\",\n",
        "  \"ADFH\": \"E\",\n",
        "  \"BDFH\": \"F\",\n",
        "    }"
      ],
      "execution_count": null,
      "outputs": []
    },
    {
      "cell_type": "markdown",
      "metadata": {
        "id": "eqr-i8eS3mgX"
      },
      "source": [
        "A = Active  B = reflexive C = Sensitive D = intuitive E = Visual F = Verbal  "
      ]
    },
    {
      "cell_type": "code",
      "metadata": {
        "id": "OwW77GwRbDut"
      },
      "source": [
        "for j in range(len(df3)):\n",
        "    x=df3.iloc[j,:]\n",
        "    l=[]\n",
        "    score=[]\n",
        "    if x[0]>x[1]:\n",
        "        l.append('A')\n",
        "        temp=(x[0]/5.0)*100\n",
        "        score.append(str(int(temp))+' ')\n",
        "    elif x[0]<x[1]:\n",
        "        l.append('B')\n",
        "        temp=(x[1]/5.0)*100\n",
        "        score.append(str(int(temp))+' ')\n",
        "    elif x[0]==x[1]:\n",
        "        l.append('A')\n",
        "        temp=(x[0]/5.0)*100\n",
        "        score.append(str(int(temp))+' ')\n",
        "        l.append('B')\n",
        "        score.append(str(int(temp))+' ')\n",
        "        \n",
        "    if x[2]>x[3]:\n",
        "        for i in range(len(l)):\n",
        "            l[i]+='C'\n",
        "            temp=(x[2]/5.0)*100\n",
        "            score[i]+=(str(int(temp))+' ')\n",
        "    elif x[2]<x[3]:\n",
        "        for i in range(len(l)):\n",
        "            l[i]+='D'\n",
        "            temp=(x[3]/5.0)*100\n",
        "            score[i]+=(str(int(temp))+' ')\n",
        "    elif x[2]==x[3]:\n",
        "        l*=2\n",
        "        score*=2\n",
        "        for i in range(int(len(l)/2)):\n",
        "            l[i]+='C'\n",
        "            temp=(x[2]/5.0)*100\n",
        "            score[i]+=(str(int(temp))+' ')\n",
        "        for i in range(int(len(l)/2),len(l)):\n",
        "            l[i]+='D'\n",
        "            temp=(x[3]/5.0)*100\n",
        "            score[i]+=(str(int(temp))+' ')\n",
        "    \n",
        "    if x[4]>x[5]:\n",
        "        for i in range(len(l)):\n",
        "            l[i]+='E'\n",
        "            temp=(x[4]/5.0)*100\n",
        "            score[i]+=(str(int(temp))+' ')\n",
        "    elif x[4]<x[5]:\n",
        "        for i in range(len(l)):\n",
        "            l[i]+='F'\n",
        "            temp=(x[5]/5.0)*100\n",
        "            score[i]+=(str(int(temp))+' ')\n",
        "    elif x[4]==x[5]:\n",
        "        l*=2\n",
        "        score*=2\n",
        "        #print(score)\n",
        "        for i in range(int(len(l)/2)):\n",
        "            l[i]+='E'\n",
        "            temp=(x[4]/5.0)*100\n",
        "            score[i]+=(str(int(temp))+' ')\n",
        "        #print(score)\n",
        "        for i in range(int(len(l)/2),len(l)):\n",
        "            l[i]+='F'\n",
        "            temp=(x[5]/5.0)*100\n",
        "            score[i]+=(str(int(temp))+' ')\n",
        "        #print(score)\n",
        "\n",
        "    \n",
        "    if x[6]>x[7]:\n",
        "        \n",
        "        for i in range(len(l)):\n",
        "            l[i]+='G'\n",
        "            temp=(x[6]/5.0)*100\n",
        "            score[i]+=(str(int(temp))+' ')\n",
        "        \n",
        "    elif x[6]<x[7]:\n",
        "        #print('scccc',score)\n",
        "        for i in range(len(l)):\n",
        "            l[i]+='H'\n",
        "            temp=(x[7]/5.0)*100\n",
        "            score[i]+=(str(int(temp))+' ')\n",
        "    elif x[6]==x[7]:\n",
        "        l*=2\n",
        "        score*=2\n",
        "        for i in range(int(len(l)/2)):\n",
        "            l[i]+='G'\n",
        "            temp=(x[6]/5.0)*100\n",
        "            score[i]+=(str(int(temp)))\n",
        "        for i in range(int(len(l)/2),len(l)):\n",
        "            l[i]+='H'\n",
        "            temp=(x[7]/5.0)*100\n",
        "            score[i]+=(str(int(temp)))\n",
        "    out=''        \n",
        "    for ele in l:\n",
        "        out+=label[ele]\n",
        "    x[-2]=out\n",
        "    x[-1]=score\n",
        "    df3.iloc[j,:]=x"
      ],
      "execution_count": null,
      "outputs": []
    },
    {
      "cell_type": "code",
      "metadata": {
        "id": "TzAqjxUCbF06"
      },
      "source": [
        "df3.head()\n"
      ],
      "execution_count": null,
      "outputs": []
    },
    {
      "cell_type": "code",
      "metadata": {
        "id": "OKJ8we8FbH7p"
      },
      "source": [
        "grp=df3.groupby('output')\n",
        "print(grp.groups)"
      ],
      "execution_count": null,
      "outputs": []
    },
    {
      "cell_type": "code",
      "metadata": {
        "id": "V2uNugKKR84q"
      },
      "source": [
        "df.insert(0, 'ID', range(1, 1 + len(df)))\n",
        "df.head()"
      ],
      "execution_count": null,
      "outputs": []
    },
    {
      "cell_type": "code",
      "metadata": {
        "id": "cws9umSER95s"
      },
      "source": [
        "df3.insert(0, 'New_ID2', range(1, 1 + len(df)))\n",
        "print(df3.head())"
      ],
      "execution_count": null,
      "outputs": []
    },
    {
      "cell_type": "code",
      "metadata": {
        "id": "5WBHQUqnDUSO"
      },
      "source": [
        ""
      ],
      "execution_count": null,
      "outputs": []
    },
    {
      "cell_type": "code",
      "metadata": {
        "id": "DGeIoSJjUXRC"
      },
      "source": [
        "df4=df.iloc[:,[0,1,2,3,4,5,6]]"
      ],
      "execution_count": null,
      "outputs": []
    },
    {
      "cell_type": "code",
      "metadata": {
        "id": "eu52zqUXTmEs"
      },
      "source": [
        "df_indv=pd.merge(df4, df3, left_on=\"ID\", right_on=\"New_ID2\")\n",
        "df_indv=df_indv.drop('New_ID2',axis=1)"
      ],
      "execution_count": null,
      "outputs": []
    },
    {
      "cell_type": "code",
      "metadata": {
        "id": "lDOAW7HQUsSe"
      },
      "source": [
        ""
      ],
      "execution_count": null,
      "outputs": []
    },
    {
      "cell_type": "code",
      "metadata": {
        "id": "mu8sgmGbUxtT"
      },
      "source": [
        "df_indv.head()"
      ],
      "execution_count": null,
      "outputs": []
    },
    {
      "cell_type": "code",
      "metadata": {
        "id": "_3YAlGVOD1KI"
      },
      "source": [
        "df_indv.iloc[27]  #A-Active,Intuitive,Verbal,Global"
      ],
      "execution_count": null,
      "outputs": []
    },
    {
      "cell_type": "code",
      "metadata": {
        "id": "f_qZCFz-U3gt"
      },
      "source": [
        "titles=['Name2','Rollnumber (FULL FORMAT)','YEAR OF STUDY','BRANCH','SECTION','GENDER','active','reflexive','sensitive','intuitive','visual','verbal','sequential','global','output','score']\n",
        "duplicatedf=pd.DataFrame(columns=titles)\n",
        "duplicatedf.head()\n"
      ],
      "execution_count": null,
      "outputs": []
    },
    {
      "cell_type": "code",
      "metadata": {
        "id": "SPnWqsK8QQwx"
      },
      "source": [
        "duf_indv=df_indv\n",
        "duf_indv=duf_indv.drop('ID',axis=1)\n",
        "duf_indv.head()\n",
        "duf_indv.to_csv('file.csv', index=False)"
      ],
      "execution_count": null,
      "outputs": []
    },
    {
      "cell_type": "code",
      "metadata": {
        "id": "v-i1DQu-QSjn"
      },
      "source": [
        "for i in range(len(duf_indv)):\n",
        "  x=duf_indv.iloc[i,:]\n",
        "  l=len(x[-1])\n",
        "  temp=x[-2]\n",
        "  temp2=x[-1]\n",
        "  lol=[]\n",
        "  for j in range(l):\n",
        "    x[-2]=temp[j]\n",
        "    x[-1]=temp2[0]\n",
        "    #print(x)\n",
        "    row_df = pd.DataFrame(x)\n",
        "    df_tr = row_df.transpose()\n",
        "    #print(df_tr)\n",
        "    duplicatedf = pd.concat([duplicatedf, df_tr], ignore_index=True)\n",
        "    #duplicatedf.append(x)\n",
        "    #print(duplicatedf)"
      ],
      "execution_count": null,
      "outputs": []
    },
    {
      "cell_type": "code",
      "metadata": {
        "id": "1djSMH9NRPxt"
      },
      "source": [
        "duplicatedf.head(10)"
      ],
      "execution_count": null,
      "outputs": []
    },
    {
      "cell_type": "code",
      "metadata": {
        "id": "m8XImuJySkcc"
      },
      "source": [
        "print(len(duplicatedf))"
      ],
      "execution_count": null,
      "outputs": []
    },
    {
      "cell_type": "code",
      "metadata": {
        "id": "s-OMi0jDXIke"
      },
      "source": [
        "c = {\"output\": {\"0\":1,\"1\":2,\"2\":3,\"3\":4,\"4\":5,\"5\":6,\"6\":7,\"7\":8,\"8\":9,\"9\":10,\"A\": 11, \"B\": 12,\"C\":13,\"D\":14,\"E\":15,\"F\":16}}"
      ],
      "execution_count": null,
      "outputs": []
    },
    {
      "cell_type": "code",
      "metadata": {
        "id": "3yZmoAZzaz-p"
      },
      "source": [
        "duplicatedf.replace(c, inplace=True)\n",
        "duplicatedf.head(30)"
      ],
      "execution_count": null,
      "outputs": []
    },
    {
      "cell_type": "code",
      "metadata": {
        "id": "20c22AS5q_eL"
      },
      "source": [
        "from sklearn import tree\n",
        "clf = tree.DecisionTreeClassifier()"
      ],
      "execution_count": null,
      "outputs": []
    },
    {
      "cell_type": "code",
      "metadata": {
        "id": "CopJVxXLDt9D"
      },
      "source": [
        "X=duplicatedf.iloc[:,[6,7,8,9,10,11,12,13]]\n",
        "Y=duplicatedf.iloc[:,-2]"
      ],
      "execution_count": null,
      "outputs": []
    },
    {
      "cell_type": "code",
      "metadata": {
        "id": "wN8MHRVvEC7z"
      },
      "source": [
        "\n",
        "from sklearn.model_selection import train_test_split\n",
        "from sklearn import datasets\n",
        "from sklearn.metrics import mean_squared_error\n",
        "from sklearn.metrics import classification_report, confusion_matrix, accuracy_score\n",
        "sss=[]\n",
        "for i in range(1000):\n",
        "  x_train, x_test, y_train, y_test = train_test_split(X,Y,test_size=0.15,random_state=i,shuffle=True)\n",
        "  clf = clf.fit(x_train, y_train)\n",
        "  y_pred1=clf.predict(x_test)\n",
        "  sss.append(accuracy_score(y_test, y_pred1))"
      ],
      "execution_count": null,
      "outputs": []
    },
    {
      "cell_type": "code",
      "metadata": {
        "id": "gZMayNJpECIZ"
      },
      "source": [
        "print(y_pred1)"
      ],
      "execution_count": null,
      "outputs": []
    },
    {
      "cell_type": "code",
      "metadata": {
        "id": "oY7veYSc152D"
      },
      "source": [
        "lol=max(sss)\n",
        "print(lol)\n",
        "print(sss.index(lol))"
      ],
      "execution_count": null,
      "outputs": []
    },
    {
      "cell_type": "code",
      "metadata": {
        "id": "dY5TyLmT32M2"
      },
      "source": [
        "x_train, x_test, y_train, y_test = train_test_split(X,Y,test_size=0.15,random_state=10,shuffle=True)\n",
        "clf = clf.fit(x_train, y_train)\n",
        "y_pred1=clf.predict(x_test)\n",
        "print(confusion_matrix(y_test,y_pred1))\n",
        "print(classification_report(y_test,y_pred1))\n",
        "print(accuracy_score(y_test, y_pred1))"
      ],
      "execution_count": null,
      "outputs": []
    },
    {
      "cell_type": "code",
      "metadata": {
        "id": "f_NVOMYeERfo"
      },
      "source": [
        "from sklearn.tree import export_text\n",
        "lab=['active','reflexive','sensitive','intuitive','visual','verbal','sequential','global']\n",
        "r = export_text(clf, feature_names=lab)\n",
        "print(r)"
      ],
      "execution_count": null,
      "outputs": []
    },
    {
      "cell_type": "code",
      "metadata": {
        "id": "PDdv_gwPEktO"
      },
      "source": [
        "import pickle\n",
        "with open ('model_pickle','wb') as f :\n",
        "    pickle.dump(clf,f)"
      ],
      "execution_count": null,
      "outputs": []
    },
    {
      "cell_type": "code",
      "metadata": {
        "id": "r5no6IORUKp1"
      },
      "source": [
        "clf.predict([[1.6,2.4,1.0,3.2,3.8,3.8,1.0,3.2]])"
      ],
      "execution_count": null,
      "outputs": []
    },
    {
      "cell_type": "code",
      "metadata": {
        "id": "OcebJT3CGK9B"
      },
      "source": [
        "df3.head()"
      ],
      "execution_count": null,
      "outputs": []
    },
    {
      "cell_type": "code",
      "metadata": {
        "id": "2J_w4YgLLHbf"
      },
      "source": [
        "newFrame.head()"
      ],
      "execution_count": null,
      "outputs": []
    },
    {
      "cell_type": "code",
      "metadata": {
        "id": "cvNZ8kmcVxQx"
      },
      "source": [
        "newFrame.insert(0, 'ID', range(1, 1 + len(df)))\n",
        "newFrame.head()"
      ],
      "execution_count": null,
      "outputs": []
    },
    {
      "cell_type": "code",
      "metadata": {
        "id": "p5ZPos4NWH4Q"
      },
      "source": [
        "reduced=pd.merge(newFrame, df3, left_on=\"ID\", right_on=\"New_ID2\")\n",
        "reduced=reduced.drop('New_ID2',axis=1)\n",
        "reduced.head()"
      ],
      "execution_count": null,
      "outputs": []
    },
    {
      "cell_type": "code",
      "metadata": {
        "id": "hMf5FA-ZWiAL"
      },
      "source": [
        "a=reduced.iloc[:,][reduced['active']<1.25]\n",
        "print(len(a))\n",
        "d1=a.iloc[:,[1,9,17,25,33]]\n",
        "print(d1.sum(axis=0))\n",
        "\n",
        "a=reduced.iloc[:,][(reduced['active']>=1.25) & (reduced['active']<2.5)]\n",
        "print(len(a))\n",
        "d1=a.iloc[:,[1,9,17,25,33]]\n",
        "print(d1.sum(axis=0))\n",
        "\n",
        "a=reduced.iloc[:,][(reduced['active']>=2.5) & (reduced['active']<3.75)]\n",
        "print(len(a))\n",
        "d1=a.iloc[:,[1,9,17,25,33]]\n",
        "print(d1.sum(axis=0))\n",
        "\n",
        "a=reduced.iloc[:,][(reduced['active']>=3.75)]\n",
        "print(len(a))\n",
        "d1=a.iloc[:,[1,9,17,25,33]]\n",
        "print(d1.sum(axis=0))"
      ],
      "execution_count": null,
      "outputs": []
    },
    {
      "cell_type": "code",
      "metadata": {
        "id": "pT9MVvu-XbLQ"
      },
      "source": [
        "a=reduced.iloc[:,][reduced['reflexive']<1.25]\n",
        "print(len(a))\n",
        "d1=a.iloc[:,[2,10,18,26,34]]\n",
        "print(d1.sum(axis=0))\n",
        "\n",
        "a=reduced.iloc[:,][(reduced['reflexive']>=1.25) & (reduced['reflexive']<2.5)]\n",
        "print(len(a))\n",
        "d1=a.iloc[:,[2,10,18,26,34]]\n",
        "print(d1.sum(axis=0))\n",
        "\n",
        "a=reduced.iloc[:,][(reduced['reflexive']>=2.5) & (reduced['reflexive']<3.75)]\n",
        "print(len(a))\n",
        "d1=a.iloc[:,[2,10,18,26,34]]\n",
        "print(d1.sum(axis=0))\n",
        "\n",
        "a=reduced.iloc[:,][reduced['reflexive']>=3.75]\n",
        "print(len(a))\n",
        "d1=a.iloc[:,[2,10,18,26,34]]\n",
        "print(d1.sum(axis=0))"
      ],
      "execution_count": null,
      "outputs": []
    },
    {
      "cell_type": "code",
      "metadata": {
        "id": "BUZ135gVkFMf"
      },
      "source": [
        "a=reduced.iloc[:,][reduced['sensitive']<1.25]\n",
        "print(len(a))\n",
        "d1=a.iloc[:,[3,11,19,27,35]]\n",
        "print(d1.sum(axis=0))\n",
        "\n",
        "a=reduced.iloc[:,][(reduced['sensitive']>=1.25) & (reduced['sensitive']<2.5)]\n",
        "print(len(a))\n",
        "d1=a.iloc[:,[3,11,19,27,35]]\n",
        "print(d1.sum(axis=0))\n",
        "\n",
        "a=reduced.iloc[:,][(reduced['sensitive']>=2.5) & (reduced['sensitive']<3.75)]\n",
        "print(len(a))\n",
        "d1=a.iloc[:,[3,11,19,27,35]]\n",
        "print(d1.sum(axis=0))\n",
        "\n",
        "a=reduced.iloc[:,][reduced['sensitive']>=3.75]\n",
        "print(len(a))\n",
        "d1=a.iloc[:,[3,11,19,27,35]]\n",
        "print(d1.sum(axis=0))"
      ],
      "execution_count": null,
      "outputs": []
    },
    {
      "cell_type": "code",
      "metadata": {
        "id": "0CakLfR0kVma"
      },
      "source": [
        "a=reduced.iloc[:,][reduced['intuitive']<1.25]\n",
        "print(len(a))\n",
        "d1=a.iloc[:,[4,12,20,28,36]]\n",
        "print(d1.sum(axis=0))\n",
        "\n",
        "a=reduced.iloc[:,][(reduced['intuitive']>=1.25) & (reduced['intuitive']<2.5)]\n",
        "print(len(a))\n",
        "d1=a.iloc[:,[4,12,20,28,36]]\n",
        "print(d1.sum(axis=0))\n",
        "\n",
        "a=reduced.iloc[:,][(reduced['intuitive']>=2.5) & (reduced['intuitive']<3.75)]\n",
        "print(len(a))\n",
        "d1=a.iloc[:,[4,12,20,28,36]]\n",
        "print(d1.sum(axis=0))\n",
        "\n",
        "a=reduced.iloc[:,][reduced['intuitive']>=3.75]\n",
        "print(len(a))\n",
        "d1=a.iloc[:,[4,12,20,28,36]]\n",
        "print(d1.sum(axis=0))"
      ],
      "execution_count": null,
      "outputs": []
    },
    {
      "cell_type": "code",
      "metadata": {
        "id": "3HuFbnybknKQ"
      },
      "source": [
        "a=reduced.iloc[:,][reduced['visual']<1.25]\n",
        "print(len(a))\n",
        "d1=a.iloc[:,[5,13,21,29,37]]\n",
        "print(d1.sum(axis=0))\n",
        "\n",
        "a=reduced.iloc[:,][(reduced['visual']>=1.25) & (reduced['visual']<2.5)]\n",
        "print(len(a))\n",
        "d1=a.iloc[:,[5,13,21,29,37]]\n",
        "print(d1.sum(axis=0))\n",
        "\n",
        "a=reduced.iloc[:,][(reduced['visual']>=2.5) & (reduced['visual']<3.75)]\n",
        "print(len(a))\n",
        "d1=a.iloc[:,[5,13,21,29,37]]\n",
        "print(d1.sum(axis=0))\n",
        "\n",
        "a=reduced.iloc[:,][reduced['visual']>=3.75]\n",
        "print(len(a))\n",
        "d1=a.iloc[:,[5,13,21,29,37]]\n",
        "print(d1.sum(axis=0))"
      ],
      "execution_count": null,
      "outputs": []
    },
    {
      "cell_type": "code",
      "metadata": {
        "id": "5YskGmr1iJyy"
      },
      "source": [
        "a=reduced.iloc[:,][reduced['verbal']<1.25]\n",
        "print(len(a))\n",
        "d1=a.iloc[:,[6,14,22,30,38]]\n",
        "print(d1.sum(axis=0))\n",
        "\n",
        "a=reduced.iloc[:,][(reduced['verbal']>=1.25) & (reduced['verbal']<2.5)]\n",
        "print(len(a))\n",
        "d1=a.iloc[:,[6,14,22,30,38]]\n",
        "print(d1.sum(axis=0))\n",
        "\n",
        "a=reduced.iloc[:,][(reduced['verbal']>=2.5) & (reduced['verbal']<3.75)]\n",
        "print(len(a))\n",
        "d1=a.iloc[:,[6,14,22,30,38]]\n",
        "print(d1.sum(axis=0))\n",
        "\n",
        "a=reduced.iloc[:,][reduced['verbal']>=3.75]\n",
        "print(len(a))\n",
        "d1=a.iloc[:,[6,14,22,30,38]]\n",
        "print(d1.sum(axis=0))"
      ],
      "execution_count": null,
      "outputs": []
    },
    {
      "cell_type": "code",
      "metadata": {
        "id": "_NCCu_LVlBZP"
      },
      "source": [
        "a=reduced.iloc[:,][reduced['sequential']<1.25]\n",
        "print(len(a))\n",
        "d1=a.iloc[:,[7,15,23,31,39]]\n",
        "print(d1.sum(axis=0))\n",
        "\n",
        "a=reduced.iloc[:,][(reduced['sequential']>=1.25) & (reduced['sequential']<2.5)]\n",
        "print(len(a))\n",
        "d1=a.iloc[:,[7,15,23,31,39]]\n",
        "print(d1.sum(axis=0))\n",
        "\n",
        "a=reduced.iloc[:,][(reduced['sequential']>=2.5) & (reduced['sequential']<3.75)]\n",
        "print(len(a))\n",
        "d1=a.iloc[:,[7,15,23,31,39]]\n",
        "print(d1.sum(axis=0))\n",
        "\n",
        "a=reduced.iloc[:,][reduced['sequential']>=3.75]\n",
        "print(len(a))\n",
        "d1=a.iloc[:,[7,15,23,31,39]]\n",
        "print(d1.sum(axis=0))"
      ],
      "execution_count": null,
      "outputs": []
    },
    {
      "cell_type": "code",
      "metadata": {
        "id": "EMF9cmPQlPs_"
      },
      "source": [
        "a=reduced.iloc[:,][reduced['global']<1.25]\n",
        "print(len(a))\n",
        "d1=a.iloc[:,[8,16,24,32,40]]\n",
        "print(d1.sum(axis=0))\n",
        "\n",
        "a=reduced.iloc[:,][(reduced['global']>=1.25) & (reduced['global']<2.5)]\n",
        "print(len(a))\n",
        "d1=a.iloc[:,[8,16,24,32,40]]\n",
        "print(d1.sum(axis=0))\n",
        "\n",
        "a=reduced.iloc[:,][(reduced['global']>=2.5) & (reduced['global']<3.75)]\n",
        "print(len(a))\n",
        "d1=a.iloc[:,[8,16,24,32,40]]\n",
        "print(d1.sum(axis=0))\n",
        "\n",
        "a=reduced.iloc[:,][reduced['global']>=3.75]\n",
        "print(len(a))\n",
        "d1=a.iloc[:,[8,16,24,32,40]]\n",
        "print(d1.sum(axis=0))"
      ],
      "execution_count": null,
      "outputs": []
    },
    {
      "cell_type": "code",
      "metadata": {
        "id": "1-zfs_IxFbkH"
      },
      "source": [
        ""
      ],
      "execution_count": null,
      "outputs": []
    },
    {
      "cell_type": "code",
      "metadata": {
        "id": "LVsh4FQMZf6B"
      },
      "source": [
        "dominance={0: 'Active',1:'reflective',2:'sensitive',3:'intuitive',4:'visual',5:'verbal',6:'sequential',7:'global'}\n",
        "score={1:'0-25%',2:'25-50%',3:'50-75%',4:'75-100%'}\n",
        "sug={'01':'You like to work in group rather than alone but you need to improve more on your skills :participate more in extra curricular activities be active during classes Work in groups and try to explain everything to each other','02':'You like to work in group rather than alone but you need to improve more on your skills :participate more in extra curricular activities be active during classes Work in groups and try to explain everything to each other',\n",
        "     '03':'You are an active person and have a good ability to work in groups here are some tips you can follow to improve your skills  participate more in extra curricular activities Practice guessing what will be on next test & how you would respond (give a mock quiz or test to yourself) Try to find new ways to keep your mind active, interactive.',\n",
        "     '04':'You are an active person and have a good ability to work in groups here are some tips you can follow to improve your skills  participate more in extra curricular activities Practice guessing what will be on next test & how you would respond (give a mock quiz or test to yourself) Try to find new ways to keep your mind active, interactive.',\n",
        "     '11':'You are a self esteemed person and like to work alone but you need to improve more on your skills Do not simply read or memorize material Spend more time on trying to understand yourself  and think on the topic to get better understanding of it stop often to review & think of applications or questions',\n",
        "     '12':'You are a self esteemed person and like to work alone but you need to improve more on your skills Do not simply read or memorize material Spend more time on trying to understand yourself  and think on the topic to get better understanding of it stop often to review & think of applications or questions',\n",
        "     '13':'You like to work alone and good at it here are some tips you can follow to improve your skills Write short summaries of readings/notes in own words this may take more time but retention of material is better stop often to review & think of applications or questions',\n",
        "     '14':'You like to work alone and good at it here are some tips you can follow to improve your skills Write short summaries of readings/notes in own words this may take more time but retention of material is better stop often to review & think of applications or questions',\n",
        "     \n",
        "     '21':'You like to know thing by facts, and practical : here are some tips you can use to improve yourself: Try to connect the concepts to real life situations Try more examples on how to solve a problem using procedure',\n",
        "     '22':'You like to know thing by facts, and practical : here are some tips you can use to improve yourself: Try to connect the concepts to real life situations Try more examples on how to solve a problem using procedure',\n",
        "     '23':'You like to know thing by facts, and practical, here are some tips you can use to improve yourself: Find out how the concepts apply in practice connect it to the real world Brainstorm with classmates about applications',\n",
        "     '24':'You like to know thing by facts, and practical, here are some tips you can use to improve yourself: Find out how the concepts apply in practice connect it to the real world Brainstorm with classmates about applications',\n",
        "     \n",
        "     '31':'You like ideas which are more innovative here are some tips you can use to improve yourself: Try to be more patient with numbers and facts. Take more time to read before attempting any question Read more books/ search new theories to increase your ideas',\n",
        "     '32':'You like ideas which are more innovative here are some tips you can use to improve yourself: Try to be more patient with numbers and facts. Take more time to read before attempting any question Read more books/ search new theories to increase your ideas',\n",
        "\n",
        "     '33':'You like ideas which are more innovative and your are good at it here are some tips you can use to improve yourself: Be patient in class and focus on finding new theories in it . Read more books/ search new theories to increase your ideas Try spending to to improve on your imaginative skills',\n",
        "     '34':'You like ideas which are more innovative and your are good at it here are some tips you can use to improve yourself: Be patient in class and focus on finding new theories in it . Read more books/ search new theories to increase your ideas Try spending to to improve on your imaginative skills',\n",
        "\n",
        "     '41':'You have good at visualizing things try these tips to improve them : Color code notes with highlighters by topic area Try to recollect pictures to remember things for a longer time. construct concept maps by listing key points, enclosing them in boxes or circles, and drawing lines with arrows between concepts to show connections.',\n",
        "     '42':'You have good at visualizing things try these tips to improve them : Color code notes with highlighters by topic area Try to recollect pictures to remember things for a longer time. construct concept maps by listing key points, enclosing them in boxes or circles, and drawing lines with arrows between concepts to show connections.',\n",
        "     '43':'You have good at visualizing things try these tips to improve them : Color code notes with highlighters by topic area Try to recollect pictures to remember things for a longer time. construct concept maps by listing key points, enclosing them in boxes or circles, and drawing lines with arrows between concepts to show connections.',\n",
        "     '44':'You have good at visualizing things try these tips to improve them : Color code notes with highlighters by topic area Try to recollect pictures to remember things for a longer time. construct concept maps by listing key points, enclosing them in boxes or circles, and drawing lines with arrows between concepts to show connections.',\n",
        "\n",
        "     '51':' You have good at auditory way of learning things try these tips to improve them : Write summaries or outlines in own words  Work in a group and gain more understanding by hearing peers’ explanations and tutee will learn more by doing explanations . Give more attention in listening to classes.',\n",
        "    \n",
        "'52':' You have good at auditory way of learning things try these tips to improve them : Write summaries or outlines in own words  Work in a group and gain more understanding by hearing peers’ explanations and tutee will learn more by doing explanations . Give more attention in listening to classes.',\n",
        "    \n",
        "'53':' You have good at auditory way of learning things try these tips to improve them : Write summaries or outlines in own words  Work in a group and gain more understanding by hearing peers’ explanations and tutee will learn more by doing explanations . Give more attention in listening to classes.',\n",
        "    \n",
        "'54':' You have good at auditory way of learning things try these tips to improve them : Write summaries or outlines in own words  Work in a group and gain more understanding by hearing peers’ explanations and tutee will learn more by doing explanations . Give more attention in listening to classes.',\n",
        "\n",
        "     '61':'You are more likely to understand things in a linear fashion consider the following tips for faster understanding: Info presented in steady progression of complexity .Try to make logical sequence of your own to have better understanding .If instructor jumps around, fill in skipped steps by consulting references .Be active in class for easy understanding.',\n",
        "    \n",
        "'62':'You are more likely to understand things in a linear fashion consider the following tips for faster understanding: Info presented in steady progression of complexity .Try to make logical sequence of your own to have better understanding .If instructor jumps around, fill in skipped steps by consulting references .Be active in class for easy understanding.',\n",
        "    \n",
        "'63':'You are more likely to understand things in a linear fashion consider the following tips for faster understanding: Info presented in steady progression of complexity .Try to make logical sequence of your own to have better understanding .If instructor jumps around, fill in skipped steps by consulting references .Be active in class for easy understanding.',\n",
        "    \n",
        "'64':'You are more likely to understand things in a linear fashion consider the following tips for faster understanding: Info presented in steady progression of complexity .Try to make logical sequence of your own to have better understanding .If instructor jumps around, fill in skipped steps by consulting references .Be active in class for easy understanding.',\n",
        "\n",
        "     '71':'You are more interested to know the big pictuer first and then focus on details . Consider the following tips : Always know what is the end result of the work you start Periodically look ahead to advanced concepts . Spend time in individual subjects for large blocks of time . Complete creativity exercises which involves generating alternative solutions',\n",
        "'72':'You are more interested to know the big pictuer first and then focus on details . Consider the following tips : Always know what is the end result of the work you start Periodically look ahead to advanced concepts . Spend time in individual subjects for large blocks of time . Complete creativity exercises which involves generating alternative solutions',\n",
        "  \n",
        "'73':'You are more interested to know the big pictuer first and then focus on details . Consider the following tips : Always know what is the end result of the work you start Periodically look ahead to advanced concepts . Spend time in individual subjects for large blocks of time .', \n",
        "'74':'You are more interested to know the big pictuer first and then focus on details . Consider the following tips : Always know what is the end result of the work you start Periodically look ahead to advanced concepts . Spend time in individual subjects for large blocks of time .'\n",
        "      \n",
        "\n",
        "\n",
        "\n",
        "\n",
        "}\n",
        "\n",
        "def calculate(value):\n",
        "  value=[int(i) for i in value]\n",
        "  print(len(value))\n",
        "  outputs=[]\n",
        "  o_scores=[]\n",
        "  suggestion=[]\n",
        "  for i in range(0,len(value),2):\n",
        "    if value[i]>value[i+1]:\n",
        "      outputs.append(dominance[i])\n",
        "      o_scores.append(score[value[i]])\n",
        "      x=str(i)+str(value[i])\n",
        "      suggestion.append(sug[x])\n",
        "    elif value[i]<=value[i+1]:\n",
        "      outputs.append(dominance[i+1])\n",
        "      o_scores.append(score[value[i+1]])\n",
        "      x=str(i)+str(value[i])\n",
        "      suggestion.append(sug[x])\n",
        "\n",
        "  return outputs,o_scores,suggestion\n",
        "\n",
        "value=['3','4','3','4','3','4','4','3']\n",
        "#print(len(value))\n",
        "a,b,c=calculate(value)\n",
        "print(a)\n",
        "print(b)\n",
        "print(c)\n",
        "oupstr='you have a dominance of '+b[0]+' in '+a[0]+' , '+b[1]+' in '+a[1]+' , '+b[2]+' in '+a[2]+' , '+b[3]+' in '+a[3]\n"
      ],
      "execution_count": null,
      "outputs": []
    },
    {
      "cell_type": "code",
      "metadata": {
        "id": "8dKDsnzOZ374"
      },
      "source": [
        "print(oupstr)"
      ],
      "execution_count": null,
      "outputs": []
    },
    {
      "cell_type": "code",
      "metadata": {
        "id": "iZE0WSNOockP"
      },
      "source": [
        "c[0]"
      ],
      "execution_count": null,
      "outputs": []
    },
    {
      "cell_type": "code",
      "metadata": {
        "id": "-O1ULDFoqwOb"
      },
      "source": [
        "s='\\n'.join(c)\n",
        "s"
      ],
      "execution_count": null,
      "outputs": []
    },
    {
      "cell_type": "code",
      "metadata": {
        "id": "sHWhweqoq4pt"
      },
      "source": [
        "X=duf_indv.iloc[:,6:13]"
      ],
      "execution_count": null,
      "outputs": []
    },
    {
      "cell_type": "code",
      "metadata": {
        "id": "EcoIJLwtUiBD"
      },
      "source": [
        "import sklearn\n",
        "import scipy.cluster.hierarchy as shc"
      ],
      "execution_count": null,
      "outputs": []
    },
    {
      "cell_type": "code",
      "metadata": {
        "id": "cq0jdjLPjQoU"
      },
      "source": [
        "# agglomerative clustering\n",
        "from numpy import unique\n",
        "from numpy import where\n",
        "from sklearn.datasets import make_classification\n",
        "from sklearn.cluster import AgglomerativeClustering\n",
        "from matplotlib import pyplot\n",
        "from sklearn.metrics import silhouette_samples, silhouette_score\n",
        "\n",
        "# define the model\n",
        "model = AgglomerativeClustering(n_clusters=4)\n",
        "# fit model and predict clusters\n",
        "yhat = model.fit_predict(X)\n",
        "score = silhouette_score(X, yhat)\n",
        "print(score)\n",
        "#print(yhat)\n",
        "plt.figure(figsize=(100, 15))\n",
        "dend = shc.dendrogram(shc.linkage(X, method='ward'))"
      ],
      "execution_count": null,
      "outputs": []
    },
    {
      "cell_type": "code",
      "metadata": {
        "id": "U5yWbBxjjZ82"
      },
      "source": [
        "# agglomerative clustering\n",
        "from numpy import unique\n",
        "from numpy import where\n",
        "from sklearn.datasets import make_classification\n",
        "from sklearn.cluster import AgglomerativeClustering\n",
        "from matplotlib import pyplot\n",
        "# define the model\n",
        "model = AgglomerativeClustering(n_clusters=4)\n",
        "# fit model and predict clusters\n",
        "yhat1 = model.fit_predict(X)\n",
        "score2 = silhouette_score(X, yhat1)\n",
        "print(score2)\n",
        "#print(yhat)\n",
        "plt.figure(figsize=(100, 15))\n",
        "dend1 = shc.dendrogram(shc.linkage(X, method='complete'))"
      ],
      "execution_count": null,
      "outputs": []
    },
    {
      "cell_type": "code",
      "metadata": {
        "id": "5SPMckVdAfIu"
      },
      "source": [
        "import matplotlib.pyplot as plt\n",
        "from kneed import KneeLocator\n",
        "from sklearn.datasets import make_blobs\n",
        "from sklearn.cluster import KMeans\n",
        "from sklearn.metrics import silhouette_score\n",
        "from sklearn.preprocessing import StandardScaler"
      ],
      "execution_count": null,
      "outputs": []
    },
    {
      "cell_type": "code",
      "metadata": {
        "id": "grGYXRGVBXh1"
      },
      "source": [
        "kmeans = KMeans(init=\"random\",n_clusters=3,n_init=10,max_iter=300,random_state=42 )\n",
        "lol=kmeans.fit(X)\n",
        "y_kmeans = kmeans.predict(X)\n",
        "print(lol)\n",
        "score = silhouette_score(X, kmeans.labels_)\n",
        "print(score)"
      ],
      "execution_count": null,
      "outputs": []
    },
    {
      "cell_type": "code",
      "metadata": {
        "id": "PiH8JUFpCJOB"
      },
      "source": [
        "q=duf_indv.loc[ (duf_indv['SECTION']=='C') & (duf_indv['YEAR OF STUDY']==4) ]\n",
        "q=q.iloc[:,6:14]\n",
        "print(q.iloc[0:])\n",
        "for j in range(len(q)):\n",
        "    one=q.iloc[j,:]\n",
        "    for i in range(0,len(one),2):\n",
        "        if one[i]>one[i+1]:\n",
        "            one[i+1]=0\n",
        "        elif one[i]<one[i+1] and one[i]!=0:\n",
        "            one[i]=0\n",
        "    q.iloc[j,:]=one\n",
        "print(q)\n",
        "  "
      ],
      "execution_count": null,
      "outputs": []
    },
    {
      "cell_type": "code",
      "metadata": {
        "id": "nN8mXucVH1SU"
      },
      "source": [
        "# agglomerative clustering\n",
        "from numpy import unique\n",
        "from numpy import where\n",
        "from sklearn.datasets import make_classification\n",
        "from sklearn.cluster import AgglomerativeClustering\n",
        "from matplotlib import pyplot\n",
        "# define the model\n",
        "model = AgglomerativeClustering(n_clusters=4)\n",
        "# fit model and predict clusters\n",
        "yhat1 = model.fit_predict(q)\n",
        "score2 = silhouette_score(q, yhat1)\n",
        "print(score2)\n",
        "print(yhat1)\n",
        "plt.figure(figsize=(20, 15))\n",
        "dend1 = shc.dendrogram(shc.linkage(q, method='complete'))\n"
      ],
      "execution_count": null,
      "outputs": []
    },
    {
      "cell_type": "code",
      "metadata": {
        "id": "4rb5H753WPNy"
      },
      "source": [
        "\n",
        "plt.scatter(X[:,0],X[:,1], c=cluster.labels_, cmap='rainbow')"
      ],
      "execution_count": null,
      "outputs": []
    },
    {
      "cell_type": "code",
      "metadata": {
        "id": "yzVpzZ_PfuRF"
      },
      "source": [
        "!pip install kneed\n",
        "\"\""
      ],
      "execution_count": null,
      "outputs": []
    },
    {
      "cell_type": "code",
      "metadata": {
        "id": "EagAS4q7LZEW"
      },
      "source": [
        "zzz=X.mean()\n",
        "col_one_list = zzz.tolist()\n",
        "col_one_list"
      ],
      "execution_count": null,
      "outputs": []
    },
    {
      "cell_type": "code",
      "metadata": {
        "id": "TgKWT_S3Le4f"
      },
      "source": [
        "zzz"
      ],
      "execution_count": null,
      "outputs": []
    },
    {
      "cell_type": "code",
      "metadata": {
        "id": "Q4AoILAWL331"
      },
      "source": [
        "df.iloc[0]"
      ],
      "execution_count": null,
      "outputs": []
    },
    {
      "cell_type": "code",
      "metadata": {
        "id": "rKX2r4p5cLbm"
      },
      "source": [
        "asd=[]\n",
        "asd.append(1)\n",
        "asd.append(2)\n",
        "asd.append(3)\n",
        "asd"
      ],
      "execution_count": null,
      "outputs": []
    },
    {
      "cell_type": "code",
      "metadata": {
        "id": "DUxAgBCfLuK3"
      },
      "source": [
        ""
      ],
      "execution_count": null,
      "outputs": []
    }
  ]
}